{
 "cells": [
  {
   "cell_type": "code",
   "execution_count": 2,
   "metadata": {},
   "outputs": [],
   "source": [
    "import numpy as np\n",
    "import cv2\n",
    "from PIL import Image\n",
    "import os\n"
   ]
  },
  {
   "cell_type": "code",
   "execution_count": 3,
   "metadata": {},
   "outputs": [
    {
     "name": "stdout",
     "output_type": "stream",
     "text": [
      "1.24.2\n"
     ]
    }
   ],
   "source": [
    "\n",
    "print(np.version.version)\n"
   ]
  },
  {
   "cell_type": "code",
   "execution_count": 4,
   "metadata": {},
   "outputs": [],
   "source": [
    "\n",
    "def appendImg(url,path,target):\n",
    "    images=[]\n",
    "    labels=[]\n",
    "    for i in range(len(url)):\n",
    "        image=path+url[i];\n",
    "        \n",
    "        img=cv2.imread(image)\n",
    "        img=img/255\n",
    "        if img is None:\n",
    "            print()\n",
    "        else:\n",
    "            image=cv2.resize(img,(200,200))\n",
    "        # image = img.resize((200,200))\n",
    "        # image = img.resize(200,200)\n",
    "        \n",
    "        images.append(image)\n",
    "        labels.append(target)\n",
    "    images=np.asarray(images);\n",
    "    labels=np.asarray(labels);\n",
    "    \n",
    "    \n",
    "    return images,labels\n"
   ]
  },
  {
   "cell_type": "code",
   "execution_count": 5,
   "metadata": {},
   "outputs": [
    {
     "name": "stdout",
     "output_type": "stream",
     "text": [
      "C:/Users/rnegi/Desktop/ML complete/ML VS code/tumourDetection/brain_tumor_dataset/yes/y0.jpg\n"
     ]
    },
    {
     "data": {
      "text/plain": [
       "1501"
      ]
     },
     "execution_count": 5,
     "metadata": {},
     "output_type": "execute_result"
    }
   ],
   "source": [
    "turl=os.listdir(\"C:/Users/rnegi/Desktop/ML complete/ML VS code/tumourDetection/brain_tumor_dataset/yes\")\n",
    "# turl1=os.listdir(\"C:/Users/rnegi/Desktop/ML complete/ML VS code/tumourDetection/yes/yes\")\n",
    "tpath=\"C:/Users/rnegi/Desktop/ML complete/ML VS code/tumourDetection/brain_tumor_dataset/yes/\"\n",
    "# tpath1=\"C:/Users/rnegi/Desktop/ML complete/ML VS code/tumourDetection/yes/yes\"\n",
    "img=tpath+turl[0]\n",
    "print(img)\n",
    "\n",
    "len(turl)"
   ]
  },
  {
   "cell_type": "code",
   "execution_count": 6,
   "metadata": {},
   "outputs": [
    {
     "data": {
      "text/plain": [
       "(200, 200, 3)"
      ]
     },
     "execution_count": 6,
     "metadata": {},
     "output_type": "execute_result"
    }
   ],
   "source": [
    "img=tpath+turl[0]\n",
    "img=cv2.imread(img)\n",
    "image=cv2.resize(img,(200,200))\n",
    "image.shape"
   ]
  },
  {
   "cell_type": "code",
   "execution_count": 7,
   "metadata": {},
   "outputs": [
    {
     "data": {
      "text/plain": [
       "1586"
      ]
     },
     "execution_count": 7,
     "metadata": {},
     "output_type": "execute_result"
    }
   ],
   "source": [
    "Nurl=os.listdir(\"C:/Users/rnegi/Desktop/ML complete/ML VS code/tumourDetection/brain_tumor_dataset/no\")\n",
    "# Nurl1=os.listdir(\"C:/Users/rnegi/Desktop/ML complete/ML VS code/tumourDetection/no/no\")\n",
    "Npath=\"C:/Users/rnegi/Desktop/ML complete/ML VS code/tumourDetection/brain_tumor_dataset/no/\"\n",
    "# Npath1=\"C:/Users/rnegi/Desktop/ML complete/ML VS code/tumourDetection/no/no\"\n",
    "\n",
    "len(Nurl)\n"
   ]
  },
  {
   "cell_type": "code",
   "execution_count": 8,
   "metadata": {},
   "outputs": [],
   "source": [
    "#images with tumour\n",
    "tumourimage, ttarget=appendImg(turl,tpath,1)\n",
    "# tumourimage, ttarget=appendImg(turl1,tpath1,1)\n",
    "normalimage, ntarget=appendImg(Nurl,Npath,0)"
   ]
  },
  {
   "cell_type": "code",
   "execution_count": 9,
   "metadata": {},
   "outputs": [],
   "source": [
    "data=np.r_[tumourimage,normalimage]\n",
    "targets=np.r_[ttarget,ntarget]"
   ]
  },
  {
   "cell_type": "code",
   "execution_count": 10,
   "metadata": {},
   "outputs": [],
   "source": [
    "from sklearn.model_selection import train_test_split\n",
    "x_train,x_test,y_train,y_test= train_test_split(data,targets,random_state=2,test_size=0.2)"
   ]
  },
  {
   "cell_type": "code",
   "execution_count": 11,
   "metadata": {},
   "outputs": [
    {
     "name": "stdout",
     "output_type": "stream",
     "text": [
      "(618, 200, 200, 3)\n"
     ]
    }
   ],
   "source": [
    "y_train.shape\n",
    "print(x_test.shape)\n"
   ]
  },
  {
   "cell_type": "code",
   "execution_count": 12,
   "metadata": {},
   "outputs": [],
   "source": [
    "import tensorflow as tf\n",
    "\n",
    "\n",
    "from tensorflow.keras.models import Sequential\n",
    "from tensorflow.keras.layers import Conv2D, MaxPooling2D,Flatten,Dense"
   ]
  },
  {
   "attachments": {},
   "cell_type": "markdown",
   "metadata": {},
   "source": [
    "*Using Transfer learning for Tumor classification\n"
   ]
  },
  {
   "cell_type": "code",
   "execution_count": 13,
   "metadata": {},
   "outputs": [],
   "source": [
    "from keras.applications.vgg16 import VGG16"
   ]
  },
  {
   "cell_type": "code",
   "execution_count": 14,
   "metadata": {},
   "outputs": [],
   "source": [
    "conv_base = VGG16(\n",
    "    weights='imagenet',\n",
    "    include_top = False,\n",
    "    input_shape=(200,200,3)\n",
    ")"
   ]
  },
  {
   "cell_type": "code",
   "execution_count": 15,
   "metadata": {},
   "outputs": [],
   "source": [
    "from tensorflow import keras\n"
   ]
  },
  {
   "cell_type": "code",
   "execution_count": 16,
   "metadata": {},
   "outputs": [],
   "source": [
    "modelseq=Sequential()\n",
    "modelseq.add(conv_base)\n",
    "modelseq.add(Flatten())\n",
    "modelseq.add(Dense(1024, activation='relu'))\n",
    "modelseq.add( Dense(512,activation='relu'))\n",
    "modelseq.add(Dense(1,activation='sigmoid'))"
   ]
  },
  {
   "cell_type": "code",
   "execution_count": 26,
   "metadata": {},
   "outputs": [],
   "source": [
    "conv_base.trainable= False"
   ]
  },
  {
   "cell_type": "code",
   "execution_count": 32,
   "metadata": {},
   "outputs": [],
   "source": [
    "modelseq.compile(optimizer='adam',loss='binary_crossentropy',metrics=['accuracy'])"
   ]
  },
  {
   "cell_type": "code",
   "execution_count": 37,
   "metadata": {},
   "outputs": [
    {
     "name": "stdout",
     "output_type": "stream",
     "text": [
      " 64/155 [===========>..................] - ETA: 2:28 - loss: 0.6931 - accuracy: 0.5117"
     ]
    },
    {
     "ename": "KeyboardInterrupt",
     "evalue": "",
     "output_type": "error",
     "traceback": [
      "\u001b[1;31m---------------------------------------------------------------------------\u001b[0m",
      "\u001b[1;31mKeyboardInterrupt\u001b[0m                         Traceback (most recent call last)",
      "Cell \u001b[1;32mIn[37], line 1\u001b[0m\n\u001b[1;32m----> 1\u001b[0m history \u001b[39m=\u001b[39m modelseq\u001b[39m.\u001b[39;49mfit(x_train,y_train,epochs\u001b[39m=\u001b[39;49m\u001b[39m1\u001b[39;49m,batch_size\u001b[39m=\u001b[39;49m\u001b[39m16\u001b[39;49m,validation_data\u001b[39m=\u001b[39;49m(x_test,y_test))\n",
      "File \u001b[1;32mc:\\Users\\rnegi\\AppData\\Local\\Programs\\Python\\Python39\\lib\\site-packages\\keras\\utils\\traceback_utils.py:65\u001b[0m, in \u001b[0;36mfilter_traceback.<locals>.error_handler\u001b[1;34m(*args, **kwargs)\u001b[0m\n\u001b[0;32m     63\u001b[0m filtered_tb \u001b[39m=\u001b[39m \u001b[39mNone\u001b[39;00m\n\u001b[0;32m     64\u001b[0m \u001b[39mtry\u001b[39;00m:\n\u001b[1;32m---> 65\u001b[0m     \u001b[39mreturn\u001b[39;00m fn(\u001b[39m*\u001b[39margs, \u001b[39m*\u001b[39m\u001b[39m*\u001b[39mkwargs)\n\u001b[0;32m     66\u001b[0m \u001b[39mexcept\u001b[39;00m \u001b[39mException\u001b[39;00m \u001b[39mas\u001b[39;00m e:\n\u001b[0;32m     67\u001b[0m     filtered_tb \u001b[39m=\u001b[39m _process_traceback_frames(e\u001b[39m.\u001b[39m__traceback__)\n",
      "File \u001b[1;32mc:\\Users\\rnegi\\AppData\\Local\\Programs\\Python\\Python39\\lib\\site-packages\\keras\\engine\\training.py:1650\u001b[0m, in \u001b[0;36mModel.fit\u001b[1;34m(self, x, y, batch_size, epochs, verbose, callbacks, validation_split, validation_data, shuffle, class_weight, sample_weight, initial_epoch, steps_per_epoch, validation_steps, validation_batch_size, validation_freq, max_queue_size, workers, use_multiprocessing)\u001b[0m\n\u001b[0;32m   1642\u001b[0m \u001b[39mwith\u001b[39;00m tf\u001b[39m.\u001b[39mprofiler\u001b[39m.\u001b[39mexperimental\u001b[39m.\u001b[39mTrace(\n\u001b[0;32m   1643\u001b[0m     \u001b[39m\"\u001b[39m\u001b[39mtrain\u001b[39m\u001b[39m\"\u001b[39m,\n\u001b[0;32m   1644\u001b[0m     epoch_num\u001b[39m=\u001b[39mepoch,\n\u001b[1;32m   (...)\u001b[0m\n\u001b[0;32m   1647\u001b[0m     _r\u001b[39m=\u001b[39m\u001b[39m1\u001b[39m,\n\u001b[0;32m   1648\u001b[0m ):\n\u001b[0;32m   1649\u001b[0m     callbacks\u001b[39m.\u001b[39mon_train_batch_begin(step)\n\u001b[1;32m-> 1650\u001b[0m     tmp_logs \u001b[39m=\u001b[39m \u001b[39mself\u001b[39;49m\u001b[39m.\u001b[39;49mtrain_function(iterator)\n\u001b[0;32m   1651\u001b[0m     \u001b[39mif\u001b[39;00m data_handler\u001b[39m.\u001b[39mshould_sync:\n\u001b[0;32m   1652\u001b[0m         context\u001b[39m.\u001b[39masync_wait()\n",
      "File \u001b[1;32mc:\\Users\\rnegi\\AppData\\Local\\Programs\\Python\\Python39\\lib\\site-packages\\tensorflow\\python\\util\\traceback_utils.py:150\u001b[0m, in \u001b[0;36mfilter_traceback.<locals>.error_handler\u001b[1;34m(*args, **kwargs)\u001b[0m\n\u001b[0;32m    148\u001b[0m filtered_tb \u001b[39m=\u001b[39m \u001b[39mNone\u001b[39;00m\n\u001b[0;32m    149\u001b[0m \u001b[39mtry\u001b[39;00m:\n\u001b[1;32m--> 150\u001b[0m   \u001b[39mreturn\u001b[39;00m fn(\u001b[39m*\u001b[39margs, \u001b[39m*\u001b[39m\u001b[39m*\u001b[39mkwargs)\n\u001b[0;32m    151\u001b[0m \u001b[39mexcept\u001b[39;00m \u001b[39mException\u001b[39;00m \u001b[39mas\u001b[39;00m e:\n\u001b[0;32m    152\u001b[0m   filtered_tb \u001b[39m=\u001b[39m _process_traceback_frames(e\u001b[39m.\u001b[39m__traceback__)\n",
      "File \u001b[1;32mc:\\Users\\rnegi\\AppData\\Local\\Programs\\Python\\Python39\\lib\\site-packages\\tensorflow\\python\\eager\\polymorphic_function\\polymorphic_function.py:880\u001b[0m, in \u001b[0;36mFunction.__call__\u001b[1;34m(self, *args, **kwds)\u001b[0m\n\u001b[0;32m    877\u001b[0m compiler \u001b[39m=\u001b[39m \u001b[39m\"\u001b[39m\u001b[39mxla\u001b[39m\u001b[39m\"\u001b[39m \u001b[39mif\u001b[39;00m \u001b[39mself\u001b[39m\u001b[39m.\u001b[39m_jit_compile \u001b[39melse\u001b[39;00m \u001b[39m\"\u001b[39m\u001b[39mnonXla\u001b[39m\u001b[39m\"\u001b[39m\n\u001b[0;32m    879\u001b[0m \u001b[39mwith\u001b[39;00m OptionalXlaContext(\u001b[39mself\u001b[39m\u001b[39m.\u001b[39m_jit_compile):\n\u001b[1;32m--> 880\u001b[0m   result \u001b[39m=\u001b[39m \u001b[39mself\u001b[39m\u001b[39m.\u001b[39m_call(\u001b[39m*\u001b[39margs, \u001b[39m*\u001b[39m\u001b[39m*\u001b[39mkwds)\n\u001b[0;32m    882\u001b[0m new_tracing_count \u001b[39m=\u001b[39m \u001b[39mself\u001b[39m\u001b[39m.\u001b[39mexperimental_get_tracing_count()\n\u001b[0;32m    883\u001b[0m without_tracing \u001b[39m=\u001b[39m (tracing_count \u001b[39m==\u001b[39m new_tracing_count)\n",
      "File \u001b[1;32mc:\\Users\\rnegi\\AppData\\Local\\Programs\\Python\\Python39\\lib\\site-packages\\tensorflow\\python\\eager\\polymorphic_function\\polymorphic_function.py:912\u001b[0m, in \u001b[0;36mFunction._call\u001b[1;34m(self, *args, **kwds)\u001b[0m\n\u001b[0;32m    909\u001b[0m   \u001b[39mself\u001b[39m\u001b[39m.\u001b[39m_lock\u001b[39m.\u001b[39mrelease()\n\u001b[0;32m    910\u001b[0m   \u001b[39m# In this case we have created variables on the first call, so we run the\u001b[39;00m\n\u001b[0;32m    911\u001b[0m   \u001b[39m# defunned version which is guaranteed to never create variables.\u001b[39;00m\n\u001b[1;32m--> 912\u001b[0m   \u001b[39mreturn\u001b[39;00m \u001b[39mself\u001b[39m\u001b[39m.\u001b[39m_no_variable_creation_fn(\u001b[39m*\u001b[39margs, \u001b[39m*\u001b[39m\u001b[39m*\u001b[39mkwds)  \u001b[39m# pylint: disable=not-callable\u001b[39;00m\n\u001b[0;32m    913\u001b[0m \u001b[39melif\u001b[39;00m \u001b[39mself\u001b[39m\u001b[39m.\u001b[39m_variable_creation_fn \u001b[39mis\u001b[39;00m \u001b[39mnot\u001b[39;00m \u001b[39mNone\u001b[39;00m:\n\u001b[0;32m    914\u001b[0m   \u001b[39m# Release the lock early so that multiple threads can perform the call\u001b[39;00m\n\u001b[0;32m    915\u001b[0m   \u001b[39m# in parallel.\u001b[39;00m\n\u001b[0;32m    916\u001b[0m   \u001b[39mself\u001b[39m\u001b[39m.\u001b[39m_lock\u001b[39m.\u001b[39mrelease()\n",
      "File \u001b[1;32mc:\\Users\\rnegi\\AppData\\Local\\Programs\\Python\\Python39\\lib\\site-packages\\tensorflow\\python\\eager\\polymorphic_function\\tracing_compiler.py:134\u001b[0m, in \u001b[0;36mTracingCompiler.__call__\u001b[1;34m(self, *args, **kwargs)\u001b[0m\n\u001b[0;32m    131\u001b[0m \u001b[39mwith\u001b[39;00m \u001b[39mself\u001b[39m\u001b[39m.\u001b[39m_lock:\n\u001b[0;32m    132\u001b[0m   (concrete_function,\n\u001b[0;32m    133\u001b[0m    filtered_flat_args) \u001b[39m=\u001b[39m \u001b[39mself\u001b[39m\u001b[39m.\u001b[39m_maybe_define_function(args, kwargs)\n\u001b[1;32m--> 134\u001b[0m \u001b[39mreturn\u001b[39;00m concrete_function\u001b[39m.\u001b[39;49m_call_flat(\n\u001b[0;32m    135\u001b[0m     filtered_flat_args, captured_inputs\u001b[39m=\u001b[39;49mconcrete_function\u001b[39m.\u001b[39;49mcaptured_inputs)\n",
      "File \u001b[1;32mc:\\Users\\rnegi\\AppData\\Local\\Programs\\Python\\Python39\\lib\\site-packages\\tensorflow\\python\\eager\\polymorphic_function\\monomorphic_function.py:1745\u001b[0m, in \u001b[0;36mConcreteFunction._call_flat\u001b[1;34m(self, args, captured_inputs, cancellation_manager)\u001b[0m\n\u001b[0;32m   1741\u001b[0m possible_gradient_type \u001b[39m=\u001b[39m gradients_util\u001b[39m.\u001b[39mPossibleTapeGradientTypes(args)\n\u001b[0;32m   1742\u001b[0m \u001b[39mif\u001b[39;00m (possible_gradient_type \u001b[39m==\u001b[39m gradients_util\u001b[39m.\u001b[39mPOSSIBLE_GRADIENT_TYPES_NONE\n\u001b[0;32m   1743\u001b[0m     \u001b[39mand\u001b[39;00m executing_eagerly):\n\u001b[0;32m   1744\u001b[0m   \u001b[39m# No tape is watching; skip to running the function.\u001b[39;00m\n\u001b[1;32m-> 1745\u001b[0m   \u001b[39mreturn\u001b[39;00m \u001b[39mself\u001b[39m\u001b[39m.\u001b[39m_build_call_outputs(\u001b[39mself\u001b[39;49m\u001b[39m.\u001b[39;49m_inference_function\u001b[39m.\u001b[39;49mcall(\n\u001b[0;32m   1746\u001b[0m       ctx, args, cancellation_manager\u001b[39m=\u001b[39;49mcancellation_manager))\n\u001b[0;32m   1747\u001b[0m forward_backward \u001b[39m=\u001b[39m \u001b[39mself\u001b[39m\u001b[39m.\u001b[39m_select_forward_and_backward_functions(\n\u001b[0;32m   1748\u001b[0m     args,\n\u001b[0;32m   1749\u001b[0m     possible_gradient_type,\n\u001b[0;32m   1750\u001b[0m     executing_eagerly)\n\u001b[0;32m   1751\u001b[0m forward_function, args_with_tangents \u001b[39m=\u001b[39m forward_backward\u001b[39m.\u001b[39mforward()\n",
      "File \u001b[1;32mc:\\Users\\rnegi\\AppData\\Local\\Programs\\Python\\Python39\\lib\\site-packages\\tensorflow\\python\\eager\\polymorphic_function\\monomorphic_function.py:378\u001b[0m, in \u001b[0;36m_EagerDefinedFunction.call\u001b[1;34m(self, ctx, args, cancellation_manager)\u001b[0m\n\u001b[0;32m    376\u001b[0m \u001b[39mwith\u001b[39;00m _InterpolateFunctionError(\u001b[39mself\u001b[39m):\n\u001b[0;32m    377\u001b[0m   \u001b[39mif\u001b[39;00m cancellation_manager \u001b[39mis\u001b[39;00m \u001b[39mNone\u001b[39;00m:\n\u001b[1;32m--> 378\u001b[0m     outputs \u001b[39m=\u001b[39m execute\u001b[39m.\u001b[39;49mexecute(\n\u001b[0;32m    379\u001b[0m         \u001b[39mstr\u001b[39;49m(\u001b[39mself\u001b[39;49m\u001b[39m.\u001b[39;49msignature\u001b[39m.\u001b[39;49mname),\n\u001b[0;32m    380\u001b[0m         num_outputs\u001b[39m=\u001b[39;49m\u001b[39mself\u001b[39;49m\u001b[39m.\u001b[39;49m_num_outputs,\n\u001b[0;32m    381\u001b[0m         inputs\u001b[39m=\u001b[39;49margs,\n\u001b[0;32m    382\u001b[0m         attrs\u001b[39m=\u001b[39;49mattrs,\n\u001b[0;32m    383\u001b[0m         ctx\u001b[39m=\u001b[39;49mctx)\n\u001b[0;32m    384\u001b[0m   \u001b[39melse\u001b[39;00m:\n\u001b[0;32m    385\u001b[0m     outputs \u001b[39m=\u001b[39m execute\u001b[39m.\u001b[39mexecute_with_cancellation(\n\u001b[0;32m    386\u001b[0m         \u001b[39mstr\u001b[39m(\u001b[39mself\u001b[39m\u001b[39m.\u001b[39msignature\u001b[39m.\u001b[39mname),\n\u001b[0;32m    387\u001b[0m         num_outputs\u001b[39m=\u001b[39m\u001b[39mself\u001b[39m\u001b[39m.\u001b[39m_num_outputs,\n\u001b[1;32m   (...)\u001b[0m\n\u001b[0;32m    390\u001b[0m         ctx\u001b[39m=\u001b[39mctx,\n\u001b[0;32m    391\u001b[0m         cancellation_manager\u001b[39m=\u001b[39mcancellation_manager)\n",
      "File \u001b[1;32mc:\\Users\\rnegi\\AppData\\Local\\Programs\\Python\\Python39\\lib\\site-packages\\tensorflow\\python\\eager\\execute.py:52\u001b[0m, in \u001b[0;36mquick_execute\u001b[1;34m(op_name, num_outputs, inputs, attrs, ctx, name)\u001b[0m\n\u001b[0;32m     50\u001b[0m \u001b[39mtry\u001b[39;00m:\n\u001b[0;32m     51\u001b[0m   ctx\u001b[39m.\u001b[39mensure_initialized()\n\u001b[1;32m---> 52\u001b[0m   tensors \u001b[39m=\u001b[39m pywrap_tfe\u001b[39m.\u001b[39;49mTFE_Py_Execute(ctx\u001b[39m.\u001b[39;49m_handle, device_name, op_name,\n\u001b[0;32m     53\u001b[0m                                       inputs, attrs, num_outputs)\n\u001b[0;32m     54\u001b[0m \u001b[39mexcept\u001b[39;00m core\u001b[39m.\u001b[39m_NotOkStatusException \u001b[39mas\u001b[39;00m e:\n\u001b[0;32m     55\u001b[0m   \u001b[39mif\u001b[39;00m name \u001b[39mis\u001b[39;00m \u001b[39mnot\u001b[39;00m \u001b[39mNone\u001b[39;00m:\n",
      "\u001b[1;31mKeyboardInterrupt\u001b[0m: "
     ]
    }
   ],
   "source": [
    "history = modelseq.fit(x_train,y_train,epochs=1,batch_size=16,validation_data=(x_test,y_test))"
   ]
  },
  {
   "cell_type": "code",
   "execution_count": null,
   "metadata": {},
   "outputs": [
    {
     "name": "stdout",
     "output_type": "stream",
     "text": [
      "10/20 [==============>...............] - ETA: 49s"
     ]
    }
   ],
   "source": [
    "# y_predict=modelseq.predict(x_test[0])\n",
    "# print(y_predict)\n",
    "x_test[0].shape\n",
    "xre=np.reshape(x_test[0],(1,200,200,3))\n",
    "\n",
    "y_predict=modelseq.predict(x_test)\n",
    "print(y_predict)\n",
    "y_pred=np.where(y_predict>0.5,1,0)\n",
    "y_test\n"
   ]
  },
  {
   "cell_type": "code",
   "execution_count": null,
   "metadata": {},
   "outputs": [],
   "source": [
    "target=['safe','not safe']"
   ]
  },
  {
   "cell_type": "code",
   "execution_count": null,
   "metadata": {},
   "outputs": [
    {
     "name": "stdout",
     "output_type": "stream",
     "text": [
      "              precision    recall  f1-score   support\n",
      "\n",
      "        safe       0.88      0.98      0.93       312\n",
      "    not safe       0.98      0.86      0.92       306\n",
      "\n",
      "    accuracy                           0.92       618\n",
      "   macro avg       0.93      0.92      0.92       618\n",
      "weighted avg       0.93      0.92      0.92       618\n",
      "\n"
     ]
    }
   ],
   "source": [
    "from sklearn.metrics import classification_report\n",
    "print(classification_report(y_test,y_pred))\n"
   ]
  },
  {
   "cell_type": "code",
   "execution_count": 34,
   "metadata": {},
   "outputs": [],
   "source": [
    "# model= Sequential([Conv2D(32,4,input_shape=(200,200,3), activation='relu'),\n",
    "#                    MaxPooling2D(),\n",
    "#                     Conv2D(16,4,input_shape=(200,200,3), activation='relu'),\n",
    "#                     MaxPooling2D(),\n",
    "#                     Conv2D(16,3,input_shape=(200,200,3), activation='relu'),\n",
    "#                     MaxPooling2D(),\n",
    "#                    Flatten(),\n",
    "#                    Dense(128, activation='relu'),\n",
    "#                    Dense(64,activation='relu'),\n",
    "#                    Dense(1,activation='sigmoid')\n",
    "               \n",
    "#                    ])\n",
    "\n",
    "model= Sequential([Conv2D(32,3,input_shape=(200,200,3), activation='relu'),\n",
    "                   MaxPooling2D(),\n",
    "                    Conv2D(16,3,input_shape=(200,200,3), activation='relu'),\n",
    "                    MaxPooling2D(),\n",
    "                    Conv2D(16,3,input_shape=(200,200,3), activation='relu'),\n",
    "                    MaxPooling2D(),\n",
    "                   Flatten(),\n",
    "                   Dense(1024, activation='relu'),\n",
    "                   Dense(512,activation='relu'),\n",
    "                   Dense(1,activation='sigmoid')\n",
    "               \n",
    "     \n",
    "     \n",
    "     #Conv2D(32,3,input_shape=(200,200,3), activation='relu'),\n",
    "#                    MaxPooling2D(),\n",
    "#                     Conv2D(16,3,input_shape=(200,200,3), activation='relu'),\n",
    "#                     MaxPooling2D(),\n",
    "#                     Conv2D(16,3,input_shape=(200,200,3), activation='relu'),\n",
    "#                     MaxPooling2D(),\n",
    "#                    Flatten(),\n",
    "#                    Dense(128, activation='relu'),\n",
    "#                    Dense(64,activation='relu'),\n",
    "#                    Dense(1,activation='softmax')\n",
    "\n",
    "               \n",
    "                   ])\n"
   ]
  },
  {
   "cell_type": "code",
   "execution_count": 35,
   "metadata": {},
   "outputs": [],
   "source": [
    "model.compile(optimizer='adam',loss=tf.keras.losses.BinaryCrossentropy(),metrics=['accuracy'])"
   ]
  },
  {
   "cell_type": "code",
   "execution_count": 36,
   "metadata": {},
   "outputs": [
    {
     "name": "stdout",
     "output_type": "stream",
     "text": [
      "Epoch 1/4\n",
      " 57/155 [==========>...................] - ETA: 33s - loss: 0.5398 - accuracy: 0.7346"
     ]
    },
    {
     "ename": "KeyboardInterrupt",
     "evalue": "",
     "output_type": "error",
     "traceback": [
      "\u001b[1;31m---------------------------------------------------------------------------\u001b[0m",
      "\u001b[1;31mKeyboardInterrupt\u001b[0m                         Traceback (most recent call last)",
      "Cell \u001b[1;32mIn[36], line 1\u001b[0m\n\u001b[1;32m----> 1\u001b[0m model\u001b[39m.\u001b[39;49mfit(x_train,y_train,batch_size\u001b[39m=\u001b[39;49m\u001b[39m16\u001b[39;49m,epochs\u001b[39m=\u001b[39;49m\u001b[39m4\u001b[39;49m,validation_data\u001b[39m=\u001b[39;49m(x_test,y_test))\n",
      "File \u001b[1;32mc:\\Users\\rnegi\\AppData\\Local\\Programs\\Python\\Python39\\lib\\site-packages\\keras\\utils\\traceback_utils.py:65\u001b[0m, in \u001b[0;36mfilter_traceback.<locals>.error_handler\u001b[1;34m(*args, **kwargs)\u001b[0m\n\u001b[0;32m     63\u001b[0m filtered_tb \u001b[39m=\u001b[39m \u001b[39mNone\u001b[39;00m\n\u001b[0;32m     64\u001b[0m \u001b[39mtry\u001b[39;00m:\n\u001b[1;32m---> 65\u001b[0m     \u001b[39mreturn\u001b[39;00m fn(\u001b[39m*\u001b[39margs, \u001b[39m*\u001b[39m\u001b[39m*\u001b[39mkwargs)\n\u001b[0;32m     66\u001b[0m \u001b[39mexcept\u001b[39;00m \u001b[39mException\u001b[39;00m \u001b[39mas\u001b[39;00m e:\n\u001b[0;32m     67\u001b[0m     filtered_tb \u001b[39m=\u001b[39m _process_traceback_frames(e\u001b[39m.\u001b[39m__traceback__)\n",
      "File \u001b[1;32mc:\\Users\\rnegi\\AppData\\Local\\Programs\\Python\\Python39\\lib\\site-packages\\keras\\engine\\training.py:1650\u001b[0m, in \u001b[0;36mModel.fit\u001b[1;34m(self, x, y, batch_size, epochs, verbose, callbacks, validation_split, validation_data, shuffle, class_weight, sample_weight, initial_epoch, steps_per_epoch, validation_steps, validation_batch_size, validation_freq, max_queue_size, workers, use_multiprocessing)\u001b[0m\n\u001b[0;32m   1642\u001b[0m \u001b[39mwith\u001b[39;00m tf\u001b[39m.\u001b[39mprofiler\u001b[39m.\u001b[39mexperimental\u001b[39m.\u001b[39mTrace(\n\u001b[0;32m   1643\u001b[0m     \u001b[39m\"\u001b[39m\u001b[39mtrain\u001b[39m\u001b[39m\"\u001b[39m,\n\u001b[0;32m   1644\u001b[0m     epoch_num\u001b[39m=\u001b[39mepoch,\n\u001b[1;32m   (...)\u001b[0m\n\u001b[0;32m   1647\u001b[0m     _r\u001b[39m=\u001b[39m\u001b[39m1\u001b[39m,\n\u001b[0;32m   1648\u001b[0m ):\n\u001b[0;32m   1649\u001b[0m     callbacks\u001b[39m.\u001b[39mon_train_batch_begin(step)\n\u001b[1;32m-> 1650\u001b[0m     tmp_logs \u001b[39m=\u001b[39m \u001b[39mself\u001b[39;49m\u001b[39m.\u001b[39;49mtrain_function(iterator)\n\u001b[0;32m   1651\u001b[0m     \u001b[39mif\u001b[39;00m data_handler\u001b[39m.\u001b[39mshould_sync:\n\u001b[0;32m   1652\u001b[0m         context\u001b[39m.\u001b[39masync_wait()\n",
      "File \u001b[1;32mc:\\Users\\rnegi\\AppData\\Local\\Programs\\Python\\Python39\\lib\\site-packages\\tensorflow\\python\\util\\traceback_utils.py:150\u001b[0m, in \u001b[0;36mfilter_traceback.<locals>.error_handler\u001b[1;34m(*args, **kwargs)\u001b[0m\n\u001b[0;32m    148\u001b[0m filtered_tb \u001b[39m=\u001b[39m \u001b[39mNone\u001b[39;00m\n\u001b[0;32m    149\u001b[0m \u001b[39mtry\u001b[39;00m:\n\u001b[1;32m--> 150\u001b[0m   \u001b[39mreturn\u001b[39;00m fn(\u001b[39m*\u001b[39margs, \u001b[39m*\u001b[39m\u001b[39m*\u001b[39mkwargs)\n\u001b[0;32m    151\u001b[0m \u001b[39mexcept\u001b[39;00m \u001b[39mException\u001b[39;00m \u001b[39mas\u001b[39;00m e:\n\u001b[0;32m    152\u001b[0m   filtered_tb \u001b[39m=\u001b[39m _process_traceback_frames(e\u001b[39m.\u001b[39m__traceback__)\n",
      "File \u001b[1;32mc:\\Users\\rnegi\\AppData\\Local\\Programs\\Python\\Python39\\lib\\site-packages\\tensorflow\\python\\eager\\polymorphic_function\\polymorphic_function.py:880\u001b[0m, in \u001b[0;36mFunction.__call__\u001b[1;34m(self, *args, **kwds)\u001b[0m\n\u001b[0;32m    877\u001b[0m compiler \u001b[39m=\u001b[39m \u001b[39m\"\u001b[39m\u001b[39mxla\u001b[39m\u001b[39m\"\u001b[39m \u001b[39mif\u001b[39;00m \u001b[39mself\u001b[39m\u001b[39m.\u001b[39m_jit_compile \u001b[39melse\u001b[39;00m \u001b[39m\"\u001b[39m\u001b[39mnonXla\u001b[39m\u001b[39m\"\u001b[39m\n\u001b[0;32m    879\u001b[0m \u001b[39mwith\u001b[39;00m OptionalXlaContext(\u001b[39mself\u001b[39m\u001b[39m.\u001b[39m_jit_compile):\n\u001b[1;32m--> 880\u001b[0m   result \u001b[39m=\u001b[39m \u001b[39mself\u001b[39m\u001b[39m.\u001b[39m_call(\u001b[39m*\u001b[39margs, \u001b[39m*\u001b[39m\u001b[39m*\u001b[39mkwds)\n\u001b[0;32m    882\u001b[0m new_tracing_count \u001b[39m=\u001b[39m \u001b[39mself\u001b[39m\u001b[39m.\u001b[39mexperimental_get_tracing_count()\n\u001b[0;32m    883\u001b[0m without_tracing \u001b[39m=\u001b[39m (tracing_count \u001b[39m==\u001b[39m new_tracing_count)\n",
      "File \u001b[1;32mc:\\Users\\rnegi\\AppData\\Local\\Programs\\Python\\Python39\\lib\\site-packages\\tensorflow\\python\\eager\\polymorphic_function\\polymorphic_function.py:912\u001b[0m, in \u001b[0;36mFunction._call\u001b[1;34m(self, *args, **kwds)\u001b[0m\n\u001b[0;32m    909\u001b[0m   \u001b[39mself\u001b[39m\u001b[39m.\u001b[39m_lock\u001b[39m.\u001b[39mrelease()\n\u001b[0;32m    910\u001b[0m   \u001b[39m# In this case we have created variables on the first call, so we run the\u001b[39;00m\n\u001b[0;32m    911\u001b[0m   \u001b[39m# defunned version which is guaranteed to never create variables.\u001b[39;00m\n\u001b[1;32m--> 912\u001b[0m   \u001b[39mreturn\u001b[39;00m \u001b[39mself\u001b[39m\u001b[39m.\u001b[39m_no_variable_creation_fn(\u001b[39m*\u001b[39margs, \u001b[39m*\u001b[39m\u001b[39m*\u001b[39mkwds)  \u001b[39m# pylint: disable=not-callable\u001b[39;00m\n\u001b[0;32m    913\u001b[0m \u001b[39melif\u001b[39;00m \u001b[39mself\u001b[39m\u001b[39m.\u001b[39m_variable_creation_fn \u001b[39mis\u001b[39;00m \u001b[39mnot\u001b[39;00m \u001b[39mNone\u001b[39;00m:\n\u001b[0;32m    914\u001b[0m   \u001b[39m# Release the lock early so that multiple threads can perform the call\u001b[39;00m\n\u001b[0;32m    915\u001b[0m   \u001b[39m# in parallel.\u001b[39;00m\n\u001b[0;32m    916\u001b[0m   \u001b[39mself\u001b[39m\u001b[39m.\u001b[39m_lock\u001b[39m.\u001b[39mrelease()\n",
      "File \u001b[1;32mc:\\Users\\rnegi\\AppData\\Local\\Programs\\Python\\Python39\\lib\\site-packages\\tensorflow\\python\\eager\\polymorphic_function\\tracing_compiler.py:134\u001b[0m, in \u001b[0;36mTracingCompiler.__call__\u001b[1;34m(self, *args, **kwargs)\u001b[0m\n\u001b[0;32m    131\u001b[0m \u001b[39mwith\u001b[39;00m \u001b[39mself\u001b[39m\u001b[39m.\u001b[39m_lock:\n\u001b[0;32m    132\u001b[0m   (concrete_function,\n\u001b[0;32m    133\u001b[0m    filtered_flat_args) \u001b[39m=\u001b[39m \u001b[39mself\u001b[39m\u001b[39m.\u001b[39m_maybe_define_function(args, kwargs)\n\u001b[1;32m--> 134\u001b[0m \u001b[39mreturn\u001b[39;00m concrete_function\u001b[39m.\u001b[39;49m_call_flat(\n\u001b[0;32m    135\u001b[0m     filtered_flat_args, captured_inputs\u001b[39m=\u001b[39;49mconcrete_function\u001b[39m.\u001b[39;49mcaptured_inputs)\n",
      "File \u001b[1;32mc:\\Users\\rnegi\\AppData\\Local\\Programs\\Python\\Python39\\lib\\site-packages\\tensorflow\\python\\eager\\polymorphic_function\\monomorphic_function.py:1745\u001b[0m, in \u001b[0;36mConcreteFunction._call_flat\u001b[1;34m(self, args, captured_inputs, cancellation_manager)\u001b[0m\n\u001b[0;32m   1741\u001b[0m possible_gradient_type \u001b[39m=\u001b[39m gradients_util\u001b[39m.\u001b[39mPossibleTapeGradientTypes(args)\n\u001b[0;32m   1742\u001b[0m \u001b[39mif\u001b[39;00m (possible_gradient_type \u001b[39m==\u001b[39m gradients_util\u001b[39m.\u001b[39mPOSSIBLE_GRADIENT_TYPES_NONE\n\u001b[0;32m   1743\u001b[0m     \u001b[39mand\u001b[39;00m executing_eagerly):\n\u001b[0;32m   1744\u001b[0m   \u001b[39m# No tape is watching; skip to running the function.\u001b[39;00m\n\u001b[1;32m-> 1745\u001b[0m   \u001b[39mreturn\u001b[39;00m \u001b[39mself\u001b[39m\u001b[39m.\u001b[39m_build_call_outputs(\u001b[39mself\u001b[39;49m\u001b[39m.\u001b[39;49m_inference_function\u001b[39m.\u001b[39;49mcall(\n\u001b[0;32m   1746\u001b[0m       ctx, args, cancellation_manager\u001b[39m=\u001b[39;49mcancellation_manager))\n\u001b[0;32m   1747\u001b[0m forward_backward \u001b[39m=\u001b[39m \u001b[39mself\u001b[39m\u001b[39m.\u001b[39m_select_forward_and_backward_functions(\n\u001b[0;32m   1748\u001b[0m     args,\n\u001b[0;32m   1749\u001b[0m     possible_gradient_type,\n\u001b[0;32m   1750\u001b[0m     executing_eagerly)\n\u001b[0;32m   1751\u001b[0m forward_function, args_with_tangents \u001b[39m=\u001b[39m forward_backward\u001b[39m.\u001b[39mforward()\n",
      "File \u001b[1;32mc:\\Users\\rnegi\\AppData\\Local\\Programs\\Python\\Python39\\lib\\site-packages\\tensorflow\\python\\eager\\polymorphic_function\\monomorphic_function.py:378\u001b[0m, in \u001b[0;36m_EagerDefinedFunction.call\u001b[1;34m(self, ctx, args, cancellation_manager)\u001b[0m\n\u001b[0;32m    376\u001b[0m \u001b[39mwith\u001b[39;00m _InterpolateFunctionError(\u001b[39mself\u001b[39m):\n\u001b[0;32m    377\u001b[0m   \u001b[39mif\u001b[39;00m cancellation_manager \u001b[39mis\u001b[39;00m \u001b[39mNone\u001b[39;00m:\n\u001b[1;32m--> 378\u001b[0m     outputs \u001b[39m=\u001b[39m execute\u001b[39m.\u001b[39;49mexecute(\n\u001b[0;32m    379\u001b[0m         \u001b[39mstr\u001b[39;49m(\u001b[39mself\u001b[39;49m\u001b[39m.\u001b[39;49msignature\u001b[39m.\u001b[39;49mname),\n\u001b[0;32m    380\u001b[0m         num_outputs\u001b[39m=\u001b[39;49m\u001b[39mself\u001b[39;49m\u001b[39m.\u001b[39;49m_num_outputs,\n\u001b[0;32m    381\u001b[0m         inputs\u001b[39m=\u001b[39;49margs,\n\u001b[0;32m    382\u001b[0m         attrs\u001b[39m=\u001b[39;49mattrs,\n\u001b[0;32m    383\u001b[0m         ctx\u001b[39m=\u001b[39;49mctx)\n\u001b[0;32m    384\u001b[0m   \u001b[39melse\u001b[39;00m:\n\u001b[0;32m    385\u001b[0m     outputs \u001b[39m=\u001b[39m execute\u001b[39m.\u001b[39mexecute_with_cancellation(\n\u001b[0;32m    386\u001b[0m         \u001b[39mstr\u001b[39m(\u001b[39mself\u001b[39m\u001b[39m.\u001b[39msignature\u001b[39m.\u001b[39mname),\n\u001b[0;32m    387\u001b[0m         num_outputs\u001b[39m=\u001b[39m\u001b[39mself\u001b[39m\u001b[39m.\u001b[39m_num_outputs,\n\u001b[1;32m   (...)\u001b[0m\n\u001b[0;32m    390\u001b[0m         ctx\u001b[39m=\u001b[39mctx,\n\u001b[0;32m    391\u001b[0m         cancellation_manager\u001b[39m=\u001b[39mcancellation_manager)\n",
      "File \u001b[1;32mc:\\Users\\rnegi\\AppData\\Local\\Programs\\Python\\Python39\\lib\\site-packages\\tensorflow\\python\\eager\\execute.py:52\u001b[0m, in \u001b[0;36mquick_execute\u001b[1;34m(op_name, num_outputs, inputs, attrs, ctx, name)\u001b[0m\n\u001b[0;32m     50\u001b[0m \u001b[39mtry\u001b[39;00m:\n\u001b[0;32m     51\u001b[0m   ctx\u001b[39m.\u001b[39mensure_initialized()\n\u001b[1;32m---> 52\u001b[0m   tensors \u001b[39m=\u001b[39m pywrap_tfe\u001b[39m.\u001b[39;49mTFE_Py_Execute(ctx\u001b[39m.\u001b[39;49m_handle, device_name, op_name,\n\u001b[0;32m     53\u001b[0m                                       inputs, attrs, num_outputs)\n\u001b[0;32m     54\u001b[0m \u001b[39mexcept\u001b[39;00m core\u001b[39m.\u001b[39m_NotOkStatusException \u001b[39mas\u001b[39;00m e:\n\u001b[0;32m     55\u001b[0m   \u001b[39mif\u001b[39;00m name \u001b[39mis\u001b[39;00m \u001b[39mnot\u001b[39;00m \u001b[39mNone\u001b[39;00m:\n",
      "\u001b[1;31mKeyboardInterrupt\u001b[0m: "
     ]
    }
   ],
   "source": [
    "model.fit(x_train,y_train,batch_size=16,epochs=4,validation_data=(x_test,y_test))"
   ]
  },
  {
   "cell_type": "code",
   "execution_count": null,
   "metadata": {},
   "outputs": [],
   "source": [
    "model.save(\"tumour.h5\")"
   ]
  },
  {
   "cell_type": "code",
   "execution_count": null,
   "metadata": {},
   "outputs": [],
   "source": [
    "from keras.models import load_model"
   ]
  },
  {
   "cell_type": "code",
   "execution_count": null,
   "metadata": {},
   "outputs": [],
   "source": [
    "keras_model=load_model('tumour.h5')"
   ]
  },
  {
   "cell_type": "code",
   "execution_count": null,
   "metadata": {},
   "outputs": [
    {
     "name": "stdout",
     "output_type": "stream",
     "text": [
      "20/20 [==============================] - 3s 120ms/step\n",
      "[[1.00000000e+00]\n",
      " [9.99999821e-01]\n",
      " [9.99996305e-01]\n",
      " [1.60215393e-06]\n",
      " [1.83533892e-01]\n",
      " [3.00958618e-08]\n",
      " [9.99999881e-01]\n",
      " [1.00000000e+00]\n",
      " [9.99807358e-01]\n",
      " [1.21350206e-01]\n",
      " [9.99994755e-01]\n",
      " [9.99198735e-01]\n",
      " [9.74790096e-01]\n",
      " [9.99999940e-01]\n",
      " [2.68576166e-08]\n",
      " [9.99995470e-01]\n",
      " [9.99995172e-01]\n",
      " [4.84457389e-02]\n",
      " [9.98477161e-01]\n",
      " [9.99914944e-01]\n",
      " [9.99997973e-01]\n",
      " [3.93109940e-06]\n",
      " [9.83712733e-01]\n",
      " [5.33762157e-01]\n",
      " [1.00000000e+00]\n",
      " [3.32964701e-03]\n",
      " [2.14658612e-05]\n",
      " [5.08586818e-05]\n",
      " [3.18714930e-03]\n",
      " [6.87765307e-04]\n",
      " [9.63919272e-04]\n",
      " [9.99999642e-01]\n",
      " [1.00000000e+00]\n",
      " [9.39389211e-05]\n",
      " [9.99999762e-01]\n",
      " [3.84331477e-04]\n",
      " [7.62718124e-03]\n",
      " [9.93336737e-01]\n",
      " [9.92301285e-01]\n",
      " [9.99999583e-01]\n",
      " [9.53654060e-04]\n",
      " [5.80270290e-01]\n",
      " [9.99346256e-01]\n",
      " [9.99999106e-01]\n",
      " [8.74311328e-01]\n",
      " [9.14105203e-06]\n",
      " [2.02549193e-11]\n",
      " [9.99998331e-01]\n",
      " [9.99993026e-01]\n",
      " [9.99787688e-01]\n",
      " [6.09165020e-02]\n",
      " [9.99999940e-01]\n",
      " [6.64288818e-05]\n",
      " [9.99905050e-01]\n",
      " [4.58973013e-02]\n",
      " [9.99838471e-01]\n",
      " [1.00000000e+00]\n",
      " [9.12164390e-01]\n",
      " [1.00000000e+00]\n",
      " [1.13768317e-01]\n",
      " [7.12934230e-03]\n",
      " [3.19762528e-02]\n",
      " [1.47790124e-05]\n",
      " [9.99999940e-01]\n",
      " [3.81222897e-04]\n",
      " [9.99974191e-01]\n",
      " [9.99998569e-01]\n",
      " [4.14027312e-10]\n",
      " [5.56630254e-01]\n",
      " [9.99999702e-01]\n",
      " [9.99952078e-01]\n",
      " [9.99998212e-01]\n",
      " [5.32647185e-02]\n",
      " [1.00000000e+00]\n",
      " [2.79025107e-06]\n",
      " [1.30915039e-08]\n",
      " [4.40252406e-05]\n",
      " [2.37361182e-05]\n",
      " [3.77004147e-02]\n",
      " [5.38695566e-02]\n",
      " [1.00000000e+00]\n",
      " [9.99986351e-01]\n",
      " [7.43265748e-02]\n",
      " [5.36790556e-10]\n",
      " [6.79892651e-07]\n",
      " [7.27614999e-01]\n",
      " [3.59999776e-01]\n",
      " [1.81032927e-04]\n",
      " [2.07958396e-06]\n",
      " [7.09562674e-02]\n",
      " [9.98596966e-01]\n",
      " [9.99760032e-01]\n",
      " [6.84192855e-05]\n",
      " [1.00000000e+00]\n",
      " [1.91566208e-03]\n",
      " [9.99999642e-01]\n",
      " [9.99911070e-01]\n",
      " [9.99993503e-01]\n",
      " [5.14193736e-02]\n",
      " [9.99992967e-01]\n",
      " [1.00000000e+00]\n",
      " [5.29190293e-03]\n",
      " [1.53504916e-05]\n",
      " [9.98968184e-01]\n",
      " [2.74577755e-02]\n",
      " [8.81925523e-02]\n",
      " [4.76968348e-01]\n",
      " [9.99526739e-01]\n",
      " [9.99999285e-01]\n",
      " [2.80886263e-01]\n",
      " [2.95089325e-04]\n",
      " [1.52618682e-04]\n",
      " [1.00000000e+00]\n",
      " [9.99979138e-01]\n",
      " [1.19346865e-02]\n",
      " [6.62608504e-01]\n",
      " [3.26982416e-07]\n",
      " [4.23285179e-03]\n",
      " [9.99996662e-01]\n",
      " [3.44096297e-05]\n",
      " [5.97522776e-05]\n",
      " [1.00000000e+00]\n",
      " [9.99800444e-01]\n",
      " [9.99999762e-01]\n",
      " [3.62306082e-06]\n",
      " [9.99998927e-01]\n",
      " [1.00000000e+00]\n",
      " [9.99999940e-01]\n",
      " [9.99942541e-01]\n",
      " [1.62877510e-13]\n",
      " [9.99999404e-01]\n",
      " [1.18712694e-06]\n",
      " [1.00000000e+00]\n",
      " [8.59365991e-06]\n",
      " [9.98756826e-01]\n",
      " [9.44991648e-01]\n",
      " [9.99930263e-01]\n",
      " [5.41725429e-04]\n",
      " [9.99978125e-01]\n",
      " [1.34627146e-06]\n",
      " [9.99648452e-01]\n",
      " [9.99999583e-01]\n",
      " [1.06289260e-01]\n",
      " [6.41769264e-04]\n",
      " [9.99410152e-01]\n",
      " [9.99999940e-01]\n",
      " [8.35477412e-02]\n",
      " [4.31254879e-02]\n",
      " [5.43549504e-05]\n",
      " [1.00000000e+00]\n",
      " [1.51963322e-04]\n",
      " [9.64602113e-01]\n",
      " [1.00000000e+00]\n",
      " [6.80265703e-06]\n",
      " [9.99952734e-01]\n",
      " [9.99998927e-01]\n",
      " [9.99999583e-01]\n",
      " [8.29164055e-04]\n",
      " [9.99998987e-01]\n",
      " [9.99982119e-01]\n",
      " [9.99998033e-01]\n",
      " [1.00000000e+00]\n",
      " [2.68360982e-05]\n",
      " [9.87623990e-01]\n",
      " [7.28439093e-01]\n",
      " [1.00000000e+00]\n",
      " [1.00000000e+00]\n",
      " [3.32964701e-03]\n",
      " [4.56583730e-05]\n",
      " [9.99980569e-01]\n",
      " [1.80890702e-03]\n",
      " [9.88379657e-01]\n",
      " [9.99999404e-01]\n",
      " [1.85920071e-04]\n",
      " [9.99992013e-01]\n",
      " [4.79466654e-02]\n",
      " [6.94804248e-06]\n",
      " [9.99981821e-01]\n",
      " [2.73986291e-02]\n",
      " [9.99938786e-01]\n",
      " [1.00000000e+00]\n",
      " [1.00000000e+00]\n",
      " [1.00000000e+00]\n",
      " [9.99999642e-01]\n",
      " [2.09535967e-04]\n",
      " [1.90345221e-03]\n",
      " [4.79607694e-02]\n",
      " [9.99999940e-01]\n",
      " [9.98993516e-01]\n",
      " [1.00000000e+00]\n",
      " [5.43274265e-03]\n",
      " [9.97451186e-01]\n",
      " [9.93594468e-01]\n",
      " [1.06865279e-01]\n",
      " [9.99949574e-01]\n",
      " [5.17661916e-04]\n",
      " [1.81801772e-06]\n",
      " [1.19880144e-03]\n",
      " [9.99999821e-01]\n",
      " [1.00000000e+00]\n",
      " [9.99975324e-01]\n",
      " [9.71001923e-01]\n",
      " [2.63522975e-06]\n",
      " [1.66675352e-04]\n",
      " [1.40675381e-01]\n",
      " [9.99992371e-01]\n",
      " [3.78115498e-03]\n",
      " [3.29080480e-03]\n",
      " [1.00000000e+00]\n",
      " [4.70543600e-05]\n",
      " [9.99999940e-01]\n",
      " [9.55397964e-01]\n",
      " [9.26956475e-01]\n",
      " [5.76376200e-01]\n",
      " [5.39076775e-02]\n",
      " [2.20480680e-01]\n",
      " [9.99999881e-01]\n",
      " [9.99623418e-01]\n",
      " [1.00000000e+00]\n",
      " [1.00000000e+00]\n",
      " [9.99954641e-01]\n",
      " [8.55673194e-01]\n",
      " [9.99989867e-01]\n",
      " [9.99997973e-01]\n",
      " [9.99811292e-01]\n",
      " [9.99875844e-01]\n",
      " [1.00000000e+00]\n",
      " [1.00000000e+00]\n",
      " [9.99997497e-01]\n",
      " [9.98545885e-01]\n",
      " [4.07614207e-05]\n",
      " [1.63961798e-01]\n",
      " [1.94700465e-06]\n",
      " [1.21994987e-02]\n",
      " [2.32482105e-01]\n",
      " [9.99999702e-01]\n",
      " [9.98811841e-01]\n",
      " [6.12091711e-08]\n",
      " [1.47617766e-06]\n",
      " [7.23652483e-04]\n",
      " [2.91403197e-02]\n",
      " [9.99390602e-01]\n",
      " [9.99983191e-01]\n",
      " [1.23556145e-01]\n",
      " [3.12023258e-06]\n",
      " [5.13147831e-01]\n",
      " [9.99992728e-01]\n",
      " [9.99784946e-01]\n",
      " [9.75797415e-01]\n",
      " [7.03889608e-01]\n",
      " [9.99995351e-01]\n",
      " [1.00000000e+00]\n",
      " [9.16909397e-01]\n",
      " [9.79913330e-06]\n",
      " [4.52509485e-02]\n",
      " [9.97491539e-01]\n",
      " [9.99620199e-01]\n",
      " [8.03702231e-03]\n",
      " [8.94819140e-01]\n",
      " [9.96265352e-01]\n",
      " [1.11471240e-06]\n",
      " [2.84551792e-02]\n",
      " [1.00000000e+00]\n",
      " [9.99987602e-01]\n",
      " [9.99989688e-01]\n",
      " [1.14621987e-04]\n",
      " [7.33203948e-01]\n",
      " [9.99998569e-01]\n",
      " [9.99999464e-01]\n",
      " [9.99799252e-01]\n",
      " [3.77715332e-04]\n",
      " [7.33480096e-01]\n",
      " [9.99831319e-01]\n",
      " [3.74779205e-07]\n",
      " [9.57735210e-06]\n",
      " [4.95713428e-02]\n",
      " [4.84457389e-02]\n",
      " [9.99986112e-01]\n",
      " [9.99972761e-01]\n",
      " [1.79798917e-06]\n",
      " [9.99744654e-01]\n",
      " [9.99838531e-01]\n",
      " [4.32063971e-04]\n",
      " [1.34580268e-05]\n",
      " [1.48790309e-06]\n",
      " [3.25561240e-02]\n",
      " [1.05214894e-01]\n",
      " [6.98257267e-01]\n",
      " [9.99999762e-01]\n",
      " [1.16225053e-03]\n",
      " [4.62313710e-06]\n",
      " [4.58313048e-01]\n",
      " [9.99972820e-01]\n",
      " [3.31291091e-03]\n",
      " [6.99300170e-01]\n",
      " [1.00000000e+00]\n",
      " [9.99998569e-01]\n",
      " [8.23292939e-05]\n",
      " [1.00000000e+00]\n",
      " [2.64161761e-04]\n",
      " [5.20170340e-03]\n",
      " [9.99925733e-01]\n",
      " [5.11244161e-06]\n",
      " [9.99978304e-01]\n",
      " [9.99999821e-01]\n",
      " [3.67827922e-01]\n",
      " [5.54474331e-02]\n",
      " [2.70759119e-06]\n",
      " [1.00000000e+00]\n",
      " [1.00000000e+00]\n",
      " [9.99999523e-01]\n",
      " [2.56801918e-02]\n",
      " [3.42090178e-04]\n",
      " [1.00000000e+00]\n",
      " [9.99998450e-01]\n",
      " [9.99999642e-01]\n",
      " [1.32530273e-04]\n",
      " [6.84186307e-05]\n",
      " [9.99988317e-01]\n",
      " [9.99830425e-01]\n",
      " [9.99999106e-01]\n",
      " [9.99961913e-01]\n",
      " [9.99999702e-01]\n",
      " [6.30123427e-12]\n",
      " [9.99999762e-01]\n",
      " [9.99990523e-01]\n",
      " [1.41122367e-03]\n",
      " [9.77632105e-01]\n",
      " [9.99999464e-01]\n",
      " [5.77948689e-01]\n",
      " [9.92251217e-01]\n",
      " [9.99944150e-01]\n",
      " [1.96852375e-06]\n",
      " [9.99999464e-01]\n",
      " [9.99996543e-01]\n",
      " [9.99513865e-01]\n",
      " [1.00000000e+00]\n",
      " [9.99999881e-01]\n",
      " [8.25716107e-10]\n",
      " [4.48253036e-01]\n",
      " [4.56583730e-05]\n",
      " [9.99999821e-01]\n",
      " [8.92902911e-01]\n",
      " [1.34360844e-05]\n",
      " [3.27912539e-01]\n",
      " [9.99994516e-01]\n",
      " [9.70413446e-01]\n",
      " [9.99998391e-01]\n",
      " [6.64727762e-03]\n",
      " [1.42374977e-01]\n",
      " [5.28569296e-02]\n",
      " [1.00000000e+00]\n",
      " [9.99999881e-01]\n",
      " [8.94573304e-09]\n",
      " [9.99999821e-01]\n",
      " [9.99999106e-01]\n",
      " [1.00000000e+00]\n",
      " [4.73360445e-16]\n",
      " [9.99993503e-01]\n",
      " [4.78196989e-06]\n",
      " [9.99752522e-01]\n",
      " [4.19703516e-04]\n",
      " [9.99978960e-01]\n",
      " [9.99994814e-01]\n",
      " [4.19403287e-03]\n",
      " [1.00000000e+00]\n",
      " [9.99996305e-01]\n",
      " [8.83975327e-01]\n",
      " [1.97660681e-02]\n",
      " [9.99999821e-01]\n",
      " [1.17474019e-05]\n",
      " [9.99992251e-01]\n",
      " [1.54744703e-05]\n",
      " [3.70156169e-02]\n",
      " [9.99666631e-01]\n",
      " [9.99996245e-01]\n",
      " [1.55550808e-07]\n",
      " [5.09521866e-04]\n",
      " [8.62558544e-01]\n",
      " [1.00000000e+00]\n",
      " [1.27910584e-01]\n",
      " [9.99999940e-01]\n",
      " [9.28603811e-07]\n",
      " [1.00000000e+00]\n",
      " [3.76768827e-01]\n",
      " [9.99995053e-01]\n",
      " [9.99990642e-01]\n",
      " [9.99999702e-01]\n",
      " [1.00000000e+00]\n",
      " [5.87236063e-05]\n",
      " [1.00000000e+00]\n",
      " [1.64892597e-07]\n",
      " [1.00000000e+00]\n",
      " [9.11239758e-02]\n",
      " [8.59783855e-10]\n",
      " [9.99741375e-01]\n",
      " [9.98879731e-01]\n",
      " [9.99998808e-01]\n",
      " [9.99776244e-01]\n",
      " [9.99953389e-01]\n",
      " [1.67023856e-02]\n",
      " [8.59831393e-01]\n",
      " [9.99706149e-01]\n",
      " [9.92102742e-01]\n",
      " [9.99785900e-01]\n",
      " [9.22902699e-10]\n",
      " [9.99832630e-01]\n",
      " [1.00000000e+00]\n",
      " [9.99994040e-01]\n",
      " [3.91443655e-06]\n",
      " [9.99994159e-01]\n",
      " [9.99992967e-01]\n",
      " [2.74405093e-03]\n",
      " [5.80282176e-07]\n",
      " [9.99997616e-01]\n",
      " [2.78378546e-01]\n",
      " [1.07220560e-03]\n",
      " [1.98823582e-05]\n",
      " [8.03097546e-01]\n",
      " [9.99998033e-01]\n",
      " [1.23831478e-06]\n",
      " [1.20336546e-04]\n",
      " [9.99999404e-01]\n",
      " [9.99999940e-01]\n",
      " [3.60105792e-03]\n",
      " [3.93599839e-06]\n",
      " [2.04307416e-05]\n",
      " [7.88208935e-03]\n",
      " [9.99779403e-01]\n",
      " [1.51115529e-07]\n",
      " [9.98974919e-01]\n",
      " [1.91355386e-04]\n",
      " [1.62742004e-01]\n",
      " [9.99999404e-01]\n",
      " [1.11471240e-06]\n",
      " [9.54750240e-01]\n",
      " [3.17208888e-03]\n",
      " [2.46121958e-01]\n",
      " [7.93276849e-05]\n",
      " [9.99999762e-01]\n",
      " [1.14092968e-01]\n",
      " [9.99817491e-01]\n",
      " [9.99995947e-01]\n",
      " [8.67556751e-01]\n",
      " [9.99981701e-01]\n",
      " [1.00000000e+00]\n",
      " [9.99999821e-01]\n",
      " [9.88548994e-01]\n",
      " [1.00000000e+00]\n",
      " [2.32142804e-04]\n",
      " [9.99999821e-01]\n",
      " [9.99999166e-01]\n",
      " [5.56638770e-05]\n",
      " [3.10600328e-08]\n",
      " [9.99997318e-01]\n",
      " [2.34926352e-03]\n",
      " [1.60088075e-05]\n",
      " [9.99532878e-01]\n",
      " [9.57990527e-01]\n",
      " [5.48430648e-07]\n",
      " [9.98633444e-01]\n",
      " [9.99999702e-01]\n",
      " [9.99088526e-01]\n",
      " [2.35910475e-01]\n",
      " [2.67582119e-01]\n",
      " [1.64150700e-01]\n",
      " [2.02931824e-05]\n",
      " [9.99997675e-01]\n",
      " [1.51846919e-03]\n",
      " [5.23463171e-03]\n",
      " [9.95740294e-01]\n",
      " [8.74134479e-04]\n",
      " [9.99998629e-01]\n",
      " [9.99968946e-01]\n",
      " [9.99999762e-01]\n",
      " [9.91156816e-01]\n",
      " [2.87742242e-02]\n",
      " [6.44469075e-03]\n",
      " [9.99022365e-01]\n",
      " [9.75873649e-01]\n",
      " [9.99999940e-01]\n",
      " [1.83357537e-01]\n",
      " [4.76006791e-03]\n",
      " [1.82972391e-04]\n",
      " [3.43798485e-04]\n",
      " [5.63911080e-01]\n",
      " [2.60264290e-08]\n",
      " [9.70118821e-01]\n",
      " [1.00000000e+00]\n",
      " [8.18187818e-02]\n",
      " [9.64851817e-04]\n",
      " [1.73453856e-07]\n",
      " [9.99997556e-01]\n",
      " [2.38912035e-04]\n",
      " [7.24865182e-04]\n",
      " [1.56913307e-02]\n",
      " [9.99996781e-01]\n",
      " [8.71895373e-01]\n",
      " [3.07670645e-02]\n",
      " [1.00000000e+00]\n",
      " [9.22641456e-01]\n",
      " [4.52520704e-04]\n",
      " [1.00000000e+00]\n",
      " [9.99979675e-01]\n",
      " [1.00000000e+00]\n",
      " [9.99999821e-01]\n",
      " [9.65730607e-09]\n",
      " [1.00000000e+00]\n",
      " [3.03512961e-01]\n",
      " [3.44140619e-01]\n",
      " [1.00000000e+00]\n",
      " [9.99996901e-01]\n",
      " [1.38801279e-05]\n",
      " [9.99970138e-01]\n",
      " [9.94488358e-01]\n",
      " [9.51134069e-08]\n",
      " [9.99999106e-01]\n",
      " [6.74136043e-01]\n",
      " [9.98671114e-01]\n",
      " [6.11482468e-03]\n",
      " [9.99999583e-01]\n",
      " [9.99998629e-01]\n",
      " [9.21527147e-01]\n",
      " [6.02632826e-05]\n",
      " [5.67447918e-04]\n",
      " [4.60381985e-01]\n",
      " [4.18067314e-02]\n",
      " [1.00000000e+00]\n",
      " [1.48249902e-02]\n",
      " [9.99999762e-01]\n",
      " [9.99998152e-01]\n",
      " [3.52278389e-02]\n",
      " [9.99761999e-01]\n",
      " [4.74894885e-03]\n",
      " [7.55693540e-02]\n",
      " [9.99997139e-01]\n",
      " [8.72267410e-05]\n",
      " [1.41974771e-04]\n",
      " [9.99999702e-01]\n",
      " [9.97917295e-01]\n",
      " [1.87284259e-05]\n",
      " [1.53914653e-02]\n",
      " [9.99778628e-01]\n",
      " [1.00000000e+00]\n",
      " [8.98105791e-04]\n",
      " [9.99293029e-01]\n",
      " [5.36647439e-02]\n",
      " [5.85158169e-01]\n",
      " [5.55608422e-03]\n",
      " [1.60552952e-02]\n",
      " [1.00000000e+00]\n",
      " [2.40457669e-01]\n",
      " [4.58313048e-01]\n",
      " [3.16984626e-03]\n",
      " [9.98614907e-01]\n",
      " [9.99999404e-01]\n",
      " [1.12715446e-04]\n",
      " [9.99997199e-01]\n",
      " [9.42089498e-01]\n",
      " [9.99993205e-01]\n",
      " [9.99999225e-01]\n",
      " [9.99999583e-01]\n",
      " [9.99981344e-01]\n",
      " [1.19517811e-01]\n",
      " [1.63291872e-07]\n",
      " [8.91558230e-01]\n",
      " [9.99685228e-01]\n",
      " [9.99994159e-01]\n",
      " [6.50977894e-09]\n",
      " [1.49408820e-07]\n",
      " [9.99927342e-01]\n",
      " [9.99999881e-01]\n",
      " [9.99996781e-01]\n",
      " [6.58837040e-10]\n",
      " [9.98555660e-01]\n",
      " [4.36010331e-01]\n",
      " [4.04780531e-06]\n",
      " [9.99814570e-01]\n",
      " [9.99994993e-01]\n",
      " [2.58007094e-06]\n",
      " [2.27468496e-04]\n",
      " [1.00000000e+00]\n",
      " [5.97537522e-08]\n",
      " [9.99999881e-01]\n",
      " [2.87314594e-01]\n",
      " [4.27401625e-02]\n",
      " [9.98887718e-01]\n",
      " [9.99960363e-01]\n",
      " [9.99397159e-01]\n",
      " [8.13512970e-03]\n",
      " [6.66259293e-05]\n",
      " [1.52957661e-03]\n",
      " [2.22130418e-02]\n",
      " [2.27891607e-04]\n",
      " [1.00000000e+00]\n",
      " [9.99421358e-01]\n",
      " [9.99825180e-01]\n",
      " [1.00000000e+00]\n",
      " [9.98984098e-01]\n",
      " [7.62616168e-04]\n",
      " [9.84170496e-01]\n",
      " [5.23733422e-02]\n",
      " [9.99946058e-01]\n",
      " [1.45013758e-11]\n",
      " [5.11081815e-02]\n",
      " [9.99991238e-01]\n",
      " [6.92716625e-04]\n",
      " [6.44238571e-06]\n",
      " [9.56211887e-10]\n",
      " [1.00000000e+00]\n",
      " [5.23757773e-11]\n",
      " [4.35008161e-07]\n",
      " [4.56583730e-05]\n",
      " [9.97301936e-01]\n",
      " [1.82984544e-10]\n",
      " [1.25825442e-02]\n",
      " [9.99415994e-01]\n",
      " [9.99997497e-01]]\n"
     ]
    },
    {
     "data": {
      "text/plain": [
       "array([1, 1, 1, 0, 0, 0, 1, 1, 1, 0, 1, 1, 0, 1, 0, 1, 1, 0, 0, 1, 1, 0,\n",
       "       0, 0, 1, 0, 0, 0, 0, 0, 0, 1, 1, 0, 1, 0, 0, 1, 1, 1, 0, 0, 1, 1,\n",
       "       0, 0, 0, 1, 1, 1, 0, 1, 0, 1, 0, 1, 1, 0, 1, 0, 0, 0, 0, 1, 0, 1,\n",
       "       1, 0, 0, 1, 1, 1, 0, 1, 0, 0, 0, 0, 0, 0, 1, 1, 0, 0, 0, 0, 0, 0,\n",
       "       0, 0, 1, 1, 0, 1, 0, 1, 1, 1, 0, 1, 1, 0, 0, 1, 0, 0, 0, 1, 1, 0,\n",
       "       0, 0, 1, 1, 0, 0, 0, 0, 1, 0, 0, 1, 1, 1, 0, 1, 1, 1, 1, 0, 1, 0,\n",
       "       1, 0, 0, 0, 0, 0, 1, 0, 1, 1, 0, 0, 1, 1, 0, 0, 0, 1, 0, 0, 1, 0,\n",
       "       1, 1, 1, 0, 1, 1, 1, 1, 0, 1, 0, 1, 1, 0, 0, 1, 0, 0, 1, 0, 1, 0,\n",
       "       0, 1, 0, 1, 1, 1, 1, 1, 0, 0, 0, 1, 1, 1, 0, 1, 0, 0, 1, 0, 0, 0,\n",
       "       1, 1, 1, 0, 0, 0, 0, 1, 0, 0, 1, 0, 1, 0, 1, 0, 0, 0, 1, 1, 1, 1,\n",
       "       1, 0, 1, 1, 1, 1, 1, 1, 1, 1, 0, 0, 0, 0, 0, 1, 1, 0, 0, 0, 0, 0,\n",
       "       1, 0, 0, 0, 1, 1, 0, 0, 1, 1, 0, 0, 0, 1, 1, 0, 0, 0, 0, 0, 1, 1,\n",
       "       1, 0, 1, 1, 1, 1, 0, 0, 1, 0, 0, 0, 0, 1, 1, 0, 1, 0, 0, 0, 0, 0,\n",
       "       0, 0, 1, 0, 0, 0, 1, 0, 0, 1, 1, 0, 1, 0, 0, 1, 0, 1, 1, 0, 0, 0,\n",
       "       1, 1, 1, 0, 0, 1, 1, 1, 0, 0, 1, 1, 1, 1, 1, 0, 1, 1, 0, 0, 1, 0,\n",
       "       1, 0, 0, 1, 1, 1, 1, 1, 0, 0, 0, 1, 0, 0, 0, 1, 0, 1, 0, 0, 0, 1,\n",
       "       1, 0, 1, 1, 1, 0, 1, 0, 1, 0, 1, 1, 0, 1, 1, 0, 0, 1, 0, 1, 0, 0,\n",
       "       1, 1, 0, 0, 0, 1, 0, 1, 0, 1, 0, 1, 1, 1, 1, 0, 1, 0, 1, 0, 0, 1,\n",
       "       1, 1, 0, 1, 0, 0, 1, 1, 1, 0, 1, 1, 1, 0, 1, 1, 0, 0, 1, 0, 0, 0,\n",
       "       0, 1, 0, 0, 1, 1, 0, 0, 0, 0, 1, 0, 1, 0, 0, 1, 0, 0, 0, 0, 0, 1,\n",
       "       0, 1, 1, 0, 1, 1, 1, 0, 1, 0, 1, 1, 0, 0, 1, 0, 0, 1, 0, 0, 1, 1,\n",
       "       1, 0, 1, 0, 0, 1, 0, 0, 1, 0, 1, 1, 1, 0, 0, 0, 1, 0, 1, 0, 0, 0,\n",
       "       0, 0, 0, 0, 1, 0, 0, 0, 1, 0, 0, 0, 1, 0, 0, 1, 0, 0, 1, 1, 1, 1,\n",
       "       0, 1, 0, 0, 1, 1, 0, 1, 0, 0, 1, 0, 1, 0, 1, 1, 0, 0, 0, 0, 0, 1,\n",
       "       0, 1, 1, 0, 1, 0, 0, 1, 0, 0, 1, 1, 0, 0, 1, 1, 0, 1, 0, 0, 0, 0,\n",
       "       1, 0, 0, 0, 1, 1, 0, 1, 0, 1, 1, 1, 1, 0, 0, 0, 1, 1, 0, 0, 1, 1,\n",
       "       1, 0, 1, 0, 0, 1, 1, 0, 0, 1, 0, 1, 0, 0, 1, 1, 0, 0, 0, 0, 0, 0,\n",
       "       1, 1, 1, 1, 1, 0, 0, 0, 0, 0, 0, 1, 0, 0, 0, 1, 0, 0, 0, 1, 0, 0,\n",
       "       1, 1])"
      ]
     },
     "execution_count": 90,
     "metadata": {},
     "output_type": "execute_result"
    }
   ],
   "source": [
    "#Model metrics\n",
    "\n",
    "y_predict=model.predict(x_test)\n",
    "print(y_predict)\n",
    "y_pred=np.where(y_predict>0.5,1,0)\n",
    "y_test\n"
   ]
  },
  {
   "cell_type": "code",
   "execution_count": null,
   "metadata": {},
   "outputs": [
    {
     "name": "stdout",
     "output_type": "stream",
     "text": [
      "              precision    recall  f1-score   support\n",
      "\n",
      "           0       1.00      0.82      0.90       333\n",
      "           1       0.82      1.00      0.90       285\n",
      "\n",
      "    accuracy                           0.90       618\n",
      "   macro avg       0.91      0.91      0.90       618\n",
      "weighted avg       0.92      0.90      0.90       618\n",
      "\n"
     ]
    }
   ],
   "source": [
    "print(classification_report(y_test,y_pred))"
   ]
  },
  {
   "cell_type": "code",
   "execution_count": null,
   "metadata": {},
   "outputs": [
    {
     "name": "stdout",
     "output_type": "stream",
     "text": [
      "[[0.8051845]]\n"
     ]
    }
   ],
   "source": [
    "#Making a predictive system\n",
    "input_image=\"C:/Users/rnegi/Desktop/ML complete/ML VS code/tumourDetection/yes/Y8.jpg\"\n",
    "img=cv2.imread(input_image)\n",
    "img=cv2.resize(img,(200,200))\n",
    "imgre=np.reshape(img,[1,200,200,3])\n",
    "prediction=keras_model.predict(imgre)\n",
    "print(prediction)"
   ]
  },
  {
   "cell_type": "code",
   "execution_count": null,
   "metadata": {},
   "outputs": [
    {
     "name": "stdout",
     "output_type": "stream",
     "text": [
      "1.24.2\n"
     ]
    }
   ],
   "source": [
    "print(np.version.version)"
   ]
  },
  {
   "cell_type": "code",
   "execution_count": null,
   "metadata": {
    "tags": []
   },
   "outputs": [],
   "source": [
    "import pandas as pd\n",
    "\n",
    "\n"
   ]
  },
  {
   "cell_type": "code",
   "execution_count": null,
   "metadata": {},
   "outputs": [
    {
     "name": "stdout",
     "output_type": "stream",
     "text": [
      "hello\n"
     ]
    }
   ],
   "source": [
    "\n",
    "\n",
    "print('hello')\n",
    "\n",
    "\n",
    "\n",
    "\n"
   ]
  },
  {
   "cell_type": "code",
   "execution_count": null,
   "metadata": {},
   "outputs": [],
   "source": [
    "import warnings\n",
    "warnings.simplefilter(action='ignore', category=FutureWarning)"
   ]
  },
  {
   "cell_type": "code",
   "execution_count": null,
   "metadata": {},
   "outputs": [
    {
     "name": "stdout",
     "output_type": "stream",
     "text": [
      "              precision    recall  f1-score   support\n",
      "\n",
      "     class 0       0.50      1.00      0.67         1\n",
      "     class 1       0.00      0.00      0.00         1\n",
      "     class 2       1.00      0.67      0.80         3\n",
      "\n",
      "    accuracy                           0.60         5\n",
      "   macro avg       0.50      0.56      0.49         5\n",
      "weighted avg       0.70      0.60      0.61         5\n",
      "\n"
     ]
    }
   ],
   "source": [
    "from sklearn.metrics import classification_report\n",
    "y_true = [0, 1, 2, 2, 2]\n",
    "y_pred = [0, 0, 2, 2, 1]\n",
    "target_names = ['class 0', 'class 1', 'class 2']\n",
    "print(classification_report(y_true, y_pred, target_names=target_names))"
   ]
  },
  {
   "cell_type": "code",
   "execution_count": null,
   "metadata": {},
   "outputs": [],
   "source": []
  },
  {
   "cell_type": "code",
   "execution_count": null,
   "metadata": {},
   "outputs": [],
   "source": []
  },
  {
   "cell_type": "code",
   "execution_count": null,
   "metadata": {},
   "outputs": [],
   "source": []
  },
  {
   "cell_type": "code",
   "execution_count": null,
   "metadata": {},
   "outputs": [],
   "source": []
  }
 ],
 "metadata": {
  "kernelspec": {
   "display_name": "Python 3",
   "language": "python",
   "name": "python3"
  },
  "language_info": {
   "codemirror_mode": {
    "name": "ipython",
    "version": 3
   },
   "file_extension": ".py",
   "mimetype": "text/x-python",
   "name": "python",
   "nbconvert_exporter": "python",
   "pygments_lexer": "ipython3",
   "version": "3.9.0"
  },
  "orig_nbformat": 4,
  "vscode": {
   "interpreter": {
    "hash": "464d662f9b99c9756f16e477b6754c4c16bc26f2d79652defd9243876988e3c4"
   }
  }
 },
 "nbformat": 4,
 "nbformat_minor": 2
}
